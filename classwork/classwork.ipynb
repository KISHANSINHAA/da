{
  "nbformat": 4,
  "nbformat_minor": 0,
  "metadata": {
    "colab": {
      "private_outputs": true,
      "provenance": [],
      "authorship_tag": "ABX9TyMGCmGDClQc77ktUCihoAaJ",
      "include_colab_link": true
    },
    "kernelspec": {
      "name": "python3",
      "display_name": "Python 3"
    },
    "language_info": {
      "name": "python"
    }
  },
  "cells": [
    {
      "cell_type": "markdown",
      "metadata": {
        "id": "view-in-github",
        "colab_type": "text"
      },
      "source": [
        "<a href=\"https://colab.research.google.com/github/KISHANSINHAA/da/blob/main/classwork.ipynb\" target=\"_parent\"><img src=\"https://colab.research.google.com/assets/colab-badge.svg\" alt=\"Open In Colab\"/></a>"
      ]
    },
    {
      "cell_type": "code",
      "execution_count": null,
      "metadata": {
        "id": "CnnA5_grdyab"
      },
      "outputs": [],
      "source": [
        "import numpy as np\n",
        "import pandas as pd"
      ]
    },
    {
      "cell_type": "code",
      "source": [
        "df=pd.read_csv('car (1).csv')"
      ],
      "metadata": {
        "id": "-GWY5PAqd42d"
      },
      "execution_count": null,
      "outputs": []
    },
    {
      "cell_type": "code",
      "source": [
        "df.head()"
      ],
      "metadata": {
        "id": "2Vf3YD8oeHEl"
      },
      "execution_count": null,
      "outputs": []
    },
    {
      "cell_type": "code",
      "source": [
        "df.info()"
      ],
      "metadata": {
        "id": "DQ4NESUJeLDi"
      },
      "execution_count": null,
      "outputs": []
    },
    {
      "cell_type": "code",
      "source": [
        "df1=df.groupby(\"Make\")[\"MSRP\"].max()\n",
        "print(df1)"
      ],
      "metadata": {
        "id": "24sxIf4keY6X"
      },
      "execution_count": null,
      "outputs": []
    },
    {
      "cell_type": "code",
      "source": [
        "df2 = df[df[\"Vehicle Style\"] == \"Convertible\"].groupby(\"Make\")[\"MSRP\"].max()\n",
        "print(df2)"
      ],
      "metadata": {
        "id": "90iAJeAze7gF"
      },
      "execution_count": null,
      "outputs": []
    },
    {
      "cell_type": "code",
      "source": [
        "df3 = df[df[\"Transmission Type\"] == \"AUTOMATIC\"]\n",
        "print(df3)\n"
      ],
      "metadata": {
        "id": "G2w92LklgxaA"
      },
      "execution_count": null,
      "outputs": []
    },
    {
      "cell_type": "code",
      "source": [
        "df4 = df[df[\"Engine Fuel Type\"].str.contains(\"premium\", na=False)]\n",
        "print(df4)"
      ],
      "metadata": {
        "id": "eb-nOtyhiBg4"
      },
      "execution_count": null,
      "outputs": []
    },
    {
      "cell_type": "code",
      "source": [
        "df5 = df.groupby(\"Make\")[\"MSRP\"].mean().astype(int)\n",
        "print(df5)"
      ],
      "metadata": {
        "id": "OPxqDwakoadi"
      },
      "execution_count": null,
      "outputs": []
    },
    {
      "cell_type": "code",
      "source": [],
      "metadata": {
        "id": "C5bIzyCxp7YD"
      },
      "execution_count": null,
      "outputs": []
    }
  ]
}
